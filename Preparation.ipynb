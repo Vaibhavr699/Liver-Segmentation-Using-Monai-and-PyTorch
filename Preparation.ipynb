{
 "cells": [
  {
   "cell_type": "code",
   "execution_count": 14,
   "id": "463bda60-4bfa-4b31-95f9-dec0cdeb9357",
   "metadata": {},
   "outputs": [],
   "source": [
    "in_path = r'D:\\Liver_Project\\Dataset\\dicom_files\\images'\n",
    "out_path = r'D:\\Liver_Project\\Dataset\\dicom_groups\\images'"
   ]
  },
  {
   "cell_type": "code",
   "execution_count": 34,
   "id": "1f76313f-d8e3-45ab-852f-602e760a1014",
   "metadata": {},
   "outputs": [],
   "source": [
    "from glob import glob\n",
    "import shutil\n",
    "import os\n",
    "import dicom2nifti\n",
    "import nibabel as nib"
   ]
  },
  {
   "cell_type": "code",
   "execution_count": 33,
   "id": "db7ce1b3-b118-42fa-b80d-147902ea4860",
   "metadata": {},
   "outputs": [
    {
     "name": "stdout",
     "output_type": "stream",
     "text": [
      "Requirement already satisfied: nibabel in c:\\users\\vaibh\\anaconda3\\envs\\liver_segmentation\\lib\\site-packages (5.3.2)\n",
      "Requirement already satisfied: numpy>=1.22 in c:\\users\\vaibh\\anaconda3\\envs\\liver_segmentation\\lib\\site-packages (from nibabel) (2.1.3)\n",
      "Requirement already satisfied: packaging>=20 in c:\\users\\vaibh\\appdata\\roaming\\python\\python312\\site-packages (from nibabel) (24.2)\n",
      "Requirement already satisfied: typing-extensions>=4.6 in c:\\users\\vaibh\\anaconda3\\envs\\liver_segmentation\\lib\\site-packages (from nibabel) (4.11.0)\n"
     ]
    }
   ],
   "source": [
    "!pip install nibabel"
   ]
  },
  {
   "cell_type": "code",
   "execution_count": 16,
   "id": "ffc55a10-bb22-4ccc-9a8e-694597b2164c",
   "metadata": {},
   "outputs": [],
   "source": [
    "for patient in glob(in_path + '/*'): \n",
    "    patient_name = os.path.basename(os.path.normpath(patient))\n",
    "    number_folders = int(len(glob(patient+'/*'))/64) \n",
    "    \n",
    "    for i in range(number_folders):\n",
    "        output_path_name = os.path.join(out_path, patient_name + '_' + str(i)) \n",
    "        os.mkdir(output_path_name) \n",
    "        \n",
    "        for i, file in enumerate (glob(patient+'/*')) :\n",
    "            if i == 64 + 1:\n",
    "                break \n",
    "            shutil.move(file, output_path_name)"
   ]
  },
  {
   "cell_type": "code",
   "execution_count": 30,
   "id": "640d743d-e7d6-4b3c-bc42-8322337c26b7",
   "metadata": {},
   "outputs": [],
   "source": [
    "in_path_images = r'D:\\Liver_Project\\Dataset\\dicom_groups\\images\\*'\n",
    "in_path_labels = r'D:\\Liver_Project\\Dataset\\dicom_groups\\labels\\*'\n",
    "out_path_images = r'D:\\Liver_Project\\Dataset\\nifti_files\\images'\n",
    "out_path_labels = r'D:\\Liver_Project\\Dataset\\nifti_files\\labels'\n",
    "\n",
    "list_images = glob(in_path_images)\n",
    "list_labels = glob(in_path_labels)\n"
   ]
  },
  {
   "cell_type": "code",
   "execution_count": 32,
   "id": "d603722d-5518-4354-9976-c644a239762d",
   "metadata": {},
   "outputs": [],
   "source": [
    "for patient in list_labels:\n",
    "    patient_name = os.path.basename(os.path.normpath(patient))\n",
    "    dicom2nifti.dicom_series_to_nifti(\n",
    "        patient,\n",
    "        os.path.join(out_path_labels, patient_name + '.nii.gz')\n",
    "    )\n"
   ]
  },
  {
   "cell_type": "code",
   "execution_count": 35,
   "id": "a73ecd36-7708-413f-a74b-f539e4ffd447",
   "metadata": {},
   "outputs": [
    {
     "name": "stdout",
     "output_type": "stream",
     "text": [
      "Processing: D:\\Liver_Project\\Dataset\\nifti_files\\labels\\liver_0_1_0.nii.gz\n",
      "Processing: D:\\Liver_Project\\Dataset\\nifti_files\\labels\\liver_1_1_0.nii.gz\n"
     ]
    }
   ],
   "source": [
    "import os\n",
    "import nibabel as nib\n",
    "import numpy as np\n",
    "from glob import glob\n",
    "\n",
    "input_nifti_file_path = r'D:\\Liver_Project\\Dataset\\nifti_files\\labels\\*'\n",
    "list_labels = glob(input_nifti_file_path)\n",
    "\n",
    "for patient in list_labels:\n",
    "    try:\n",
    "        print(f\"Processing: {patient}\")\n",
    "        nifti_file = nib.load(patient)\n",
    "        fdata = nifti_file.get_fdata()\n",
    "        np_unique = np.unique(fdata)\n",
    "        if len(np_unique) == 1:\n",
    "            print(f\"Single unique value in: {patient}\")\n",
    "    except Exception as e:\n",
    "        print(f\"Error processing {patient}: {e}\")"
   ]
  },
  {
   "cell_type": "code",
   "execution_count": null,
   "id": "c9a218c0-1994-477b-8254-bda7c10310cf",
   "metadata": {},
   "outputs": [],
   "source": []
  }
 ],
 "metadata": {
  "kernelspec": {
   "display_name": "Python 3 (ipykernel)",
   "language": "python",
   "name": "python3"
  },
  "language_info": {
   "codemirror_mode": {
    "name": "ipython",
    "version": 3
   },
   "file_extension": ".py",
   "mimetype": "text/x-python",
   "name": "python",
   "nbconvert_exporter": "python",
   "pygments_lexer": "ipython3",
   "version": "3.12.7"
  }
 },
 "nbformat": 4,
 "nbformat_minor": 5
}
